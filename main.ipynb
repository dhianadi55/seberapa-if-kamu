{
 "cells": [
  {
   "cell_type": "code",
   "execution_count": 1,
   "id": "2c8a26f6",
   "metadata": {
    "execution": {
     "iopub.execute_input": "2025-05-01T10:31:59.755002Z",
     "iopub.status.busy": "2025-05-01T10:31:59.755002Z",
     "iopub.status.idle": "2025-05-01T10:32:11.044428Z",
     "shell.execute_reply": "2025-05-01T10:32:11.042653Z"
    }
   },
   "outputs": [],
   "source": [
    "import cv2\n",
    "from modules.face_detection import FaceDirectionDetector\n",
    "from modules.game_logic import QuestionGame\n",
    "from modules.filter import draw_question\n",
    "\n",
    "# Inisialisasi\n",
    "face_detector = FaceDirectionDetector()\n",
    "game = QuestionGame('data/questions.json')\n",
    "\n",
    "cap = cv2.VideoCapture(0)\n",
    "\n",
    "question = game.get_next_question()\n",
    "answer_time = 3  # detik\n",
    "start_time = cv2.getTickCount()\n",
    "fps = cv2.getTickFrequency()"
   ]
  },
  {
   "cell_type": "code",
   "execution_count": null,
   "id": "3f557815",
   "metadata": {},
   "outputs": [],
   "source": []
  },
  {
   "cell_type": "code",
   "execution_count": 2,
   "id": "1d92fec3",
   "metadata": {
    "execution": {
     "iopub.execute_input": "2025-05-01T10:32:11.050920Z",
     "iopub.status.busy": "2025-05-01T10:32:11.050920Z",
     "iopub.status.idle": "2025-05-01T10:32:17.466147Z",
     "shell.execute_reply": "2025-05-01T10:32:17.461079Z"
    }
   },
   "outputs": [
    {
     "name": "stdout",
     "output_type": "stream",
     "text": [
      "Skor akhir: 1 dari 2\n"
     ]
    }
   ],
   "source": [
    "while cap.isOpened() and question:\n",
    "    ret, frame = cap.read()\n",
    "    if not ret:\n",
    "        break\n",
    "\n",
    "    direction = face_detector.get_head_direction(frame)\n",
    "    frame = draw_question(frame, question['question'], question['choices'])\n",
    "\n",
    "    elapsed_time = (cv2.getTickCount() - start_time) / fps\n",
    "    cv2.putText(frame, f\"Time left: {max(0, int(answer_time - elapsed_time))}s\", (10,30), cv2.FONT_HERSHEY_SIMPLEX, 0.7, (0,255,0), 2)\n",
    "\n",
    "    if elapsed_time > answer_time:\n",
    "        correct = 0  # Jawaban selalu dianggap pilihan kiri untuk contoh\n",
    "        game.evaluate(direction, correct)\n",
    "        question = game.get_next_question()\n",
    "        start_time = cv2.getTickCount()\n",
    "\n",
    "    cv2.imshow('Seberapa IF Sih Kamu?', frame)\n",
    "    if cv2.waitKey(1) & 0xFF == ord('q'):\n",
    "        break\n",
    "\n",
    "cap.release()\n",
    "cv2.destroyAllWindows()\n",
    "print(f\"Skor akhir: {game.score} dari {game.current_index}\")"
   ]
  }
 ],
 "metadata": {
  "kernelspec": {
   "display_name": "121140055",
   "language": "python",
   "name": "python3"
  },
  "language_info": {
   "codemirror_mode": {
    "name": "ipython",
    "version": 3
   },
   "file_extension": ".py",
   "mimetype": "text/x-python",
   "name": "python",
   "nbconvert_exporter": "python",
   "pygments_lexer": "ipython3",
   "version": "3.12.4"
  }
 },
 "nbformat": 4,
 "nbformat_minor": 5
}
